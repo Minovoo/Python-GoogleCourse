{
 "cells": [
  {
   "cell_type": "markdown",
   "metadata": {},
   "source": [
    "读取一个文件(homework.txt)，将文件中转换为字典，key值为学习项目，value值为一个负责人列表，并判断字典中是否有负责人负责多个学习项目。"
   ]
  },
  {
   "cell_type": "code",
   "execution_count": 14,
   "metadata": {},
   "outputs": [
    {
     "name": "stdout",
     "output_type": "stream",
     "text": [
      "{'python学习': ['咖喱', '胡骞'], 'leetcode刷题': ['老表', '陈焕森'], '编程集训': ['孙超', '小熊'], '统计学': ['李奇峰', '蓝昔'], 'ML项目实践': ['杨冰楠', '孙涛'], '高级算法梳理': ['于鸿飞', '小雪'], '基础算法梳理': ['sm1les', '钱令武'], '知乎小组': ['李严', '黑桃'], '学习群': ['咖喱', '排骨']}\n"
     ]
    }
   ],
   "source": [
    "# 读入文件并转换为字典\n",
    "projects = dict()\n",
    "with open('homework.txt', 'r', encoding='utf-8') as f:\n",
    "    for line in f.readlines():\n",
    "        # strip() 删除前后空格，split(' ') 划分\n",
    "        project, *members = line.strip().split(' ')\n",
    "        projects[project] = members\n",
    "        \n",
    "print(projects)"
   ]
  },
  {
   "cell_type": "code",
   "execution_count": 20,
   "metadata": {},
   "outputs": [
    {
     "name": "stdout",
     "output_type": "stream",
     "text": [
      "负责多个项目的负责人有：\n",
      "咖喱\n"
     ]
    }
   ],
   "source": [
    "members = dict()\n",
    "\n",
    "for pro in projects:\n",
    "    for m in projects[pro]:\n",
    "        members[m] = 1 if m not in members else members[m] + 1\n",
    "        \n",
    "print('负责多个项目的负责人有：')\n",
    "print(*[m for m in members if members[m] > 1])\n",
    "# print(members)"
   ]
  }
 ],
 "metadata": {
  "kernelspec": {
   "display_name": "Python 3",
   "language": "python",
   "name": "python3"
  },
  "language_info": {
   "codemirror_mode": {
    "name": "ipython",
    "version": 3
   },
   "file_extension": ".py",
   "mimetype": "text/x-python",
   "name": "python",
   "nbconvert_exporter": "python",
   "pygments_lexer": "ipython3",
   "version": "3.6.3"
  }
 },
 "nbformat": 4,
 "nbformat_minor": 2
}
