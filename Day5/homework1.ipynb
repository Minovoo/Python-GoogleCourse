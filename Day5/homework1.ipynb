{
 "cells": [
  {
   "cell_type": "markdown",
   "metadata": {},
   "source": [
    "1. 请用户输入一个时间，输出选项所对应的现在时间，告诉用户这两个时间相隔的天数，小时数，分钟数和秒数。"
   ]
  },
  {
   "cell_type": "code",
   "execution_count": 38,
   "metadata": {},
   "outputs": [
    {
     "name": "stdout",
     "output_type": "stream",
     "text": [
      "请输入一个时间，格式如 2019-01-01 10:10:10：2019-01-31 10:10:10\n",
      "2019-01-31 10:10:10\n",
      "您输入的时间是： 2019-01-31 10:10:10\n",
      "现在的时间是： 2019-01-30 17:16:07\n",
      "与您输入的时间相隔天数为：0天，相隔小时数为：16.90小时，相隔分钟数为：1014.03分钟，相隔秒数为：60842秒\n"
     ]
    }
   ],
   "source": [
    "import time\n",
    "from datetime import datetime, timedelta\n",
    "\n",
    "# 定义日期格式\n",
    "date_format = '%Y-%m-%d %H:%M:%S'\n",
    "# 获取用户输入\n",
    "input_time = input('请输入一个时间，格式如 2019-01-01 10:10:10：')\n",
    "try:\n",
    "    # 根据输入长度将输入转换成对应的时间格式\n",
    "    my_time = datetime.strptime(input_time, date_format)\n",
    "except ValueError:\n",
    "    raise ValueError('输入格式错误！')\n",
    "    \n",
    "\n",
    "print('您输入的时间是：', datetime.strftime(my_time, date_format))\n",
    "\n",
    "# 显示现在的时间\n",
    "now = datetime.today()\n",
    "print('现在的时间是：', datetime.strftime(now, date_format))\n",
    "\n",
    "# 计算时间差\n",
    "delta = my_time - now\n",
    "print('与您输入的时间相隔天数为：{}天，相隔小时数为：{:.2f}小时，相隔分钟数为：{:.2f}分钟，相隔秒数为：{}秒'.format(abs(delta.days), delta.seconds/3600, delta.seconds/60, delta.seconds))"
   ]
  }
 ],
 "metadata": {
  "kernelspec": {
   "display_name": "Python 3",
   "language": "python",
   "name": "python3"
  },
  "language_info": {
   "codemirror_mode": {
    "name": "ipython",
    "version": 3
   },
   "file_extension": ".py",
   "mimetype": "text/x-python",
   "name": "python",
   "nbconvert_exporter": "python",
   "pygments_lexer": "ipython3",
   "version": "3.6.3"
  }
 },
 "nbformat": 4,
 "nbformat_minor": 2
}
