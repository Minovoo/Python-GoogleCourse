{
 "cells": [
  {
   "cell_type": "markdown",
   "metadata": {},
   "source": [
    "- 昨天我们学习了print函数和input函数，变量，简单运算，格式化字符串等内容。其中关于变量类型我们介绍了整数、浮点型、字符串、布尔值和空值。\n",
    "- 今天我们将继续深入**字符串类型的操作**并介绍另外两种变量类型：**列表(list)、元组(tuple)**\n",
    "- 在最后，我们还会学习**成员运算符**"
   ]
  },
  {
   "cell_type": "markdown",
   "metadata": {},
   "source": [
    "# 1.字符串操作"
   ]
  },
  {
   "cell_type": "markdown",
   "metadata": {},
   "source": [
    "- 连接:      \"+\"\n",
    "- 重复输出： \"*\"\n",
    "- 替换：     replace(旧文本, 新文本)\n",
    "- 分隔：     split(分隔符)\n",
    "- 字符串索引"
   ]
  },
  {
   "cell_type": "code",
   "execution_count": 2,
   "metadata": {},
   "outputs": [],
   "source": [
    "#先定义几个字符串留待使用\n",
    "name = '大鱼AI'\n",
    "name1 = '我爱'\n",
    "name2 = '大鱼AI'"
   ]
  },
  {
   "cell_type": "code",
   "execution_count": 3,
   "metadata": {},
   "outputs": [
    {
     "name": "stdout",
     "output_type": "stream",
     "text": [
      "我爱大鱼AI\n"
     ]
    }
   ],
   "source": [
    "#连接：字符串连接，直接使用加号(+)\n",
    "print(name1 + name2) #输出为：我爱大鱼AI"
   ]
  },
  {
   "cell_type": "code",
   "execution_count": 4,
   "metadata": {},
   "outputs": [
    {
     "name": "stdout",
     "output_type": "stream",
     "text": [
      "大鱼AI大鱼AI大鱼AI\n"
     ]
    }
   ],
   "source": [
    "#重复输出：\n",
    "print(name2 * 3) #大鱼AI大鱼AI大鱼AI"
   ]
  },
  {
   "cell_type": "code",
   "execution_count": 5,
   "metadata": {},
   "outputs": [
    {
     "name": "stdout",
     "output_type": "stream",
     "text": [
      "我喜欢大鱼AI\n"
     ]
    }
   ],
   "source": [
    "#替换\n",
    "# 代码用法str.rep#lace(old, new)\n",
    "str1 = '我爱大鱼AI'\n",
    "str2 = str1.replace('爱','喜欢')\n",
    "print(str2) # 输出为：我喜欢大鱼AI"
   ]
  },
  {
   "cell_type": "code",
   "execution_count": null,
   "metadata": {},
   "outputs": [],
   "source": [
    "#分隔\n",
    "# 代码用法 str.split(str, num)\n",
    "# str:分隔字符串样式，默认为空格  num:分隔次数，默认为-1,即全部\n",
    "str1 = \"我 爱 大鱼AI\"\n",
    "list1 = str1.split(\" \")\n",
    "print(list1)# 输出为：['我', '爱', '大鱼AI']"
   ]
  },
  {
   "cell_type": "code",
   "execution_count": null,
   "metadata": {},
   "outputs": [],
   "source": [
    "#索引\n",
    "str1 = \"我爱大鱼AI\" # 索引：取字符串第二个元素\n",
    "print(str1[1]) #输出为：爱"
   ]
  },
  {
   "cell_type": "code",
   "execution_count": null,
   "metadata": {},
   "outputs": [],
   "source": [
    "#替换，不支持\n",
    "str1[1] = \"喜\"  #报错：'str' object does not support item assignment，"
   ]
  },
  {
   "cell_type": "code",
   "execution_count": 13,
   "metadata": {},
   "outputs": [],
   "source": [
    "####Test Zone####\n",
    "#试着自己复制一段文本进行连接、重复输出、替换、分隔、索引等操作\n",
    "\n",
    "\n",
    "\n",
    "\n",
    "\n",
    "\n",
    "#################"
   ]
  },
  {
   "cell_type": "markdown",
   "metadata": {},
   "source": [
    "# 2. 列表"
   ]
  },
  {
   "cell_type": "markdown",
   "metadata": {},
   "source": [
    "列表是Python中最基本的数据结构之一，一般用中括号([ ]) 包裹。  \n",
    "例如：list1 = [\"Python\", \"Java\", \"大鱼AI\"]  \n",
    "在例子中，list1为变量名，[“Python”, “Java”, “大鱼AI”]为列表。"
   ]
  },
  {
   "cell_type": "markdown",
   "metadata": {},
   "source": [
    "Tips：列表可以将许多元素放在一个变量下面通过索引的方式取得，例如可以将50个班级同学的成绩按学号顺序放入列表中，就可以按照索引的方法获得，而不用定义50个变量名称存放这些成绩"
   ]
  },
  {
   "cell_type": "markdown",
   "metadata": {},
   "source": [
    "## 列表的基本操作"
   ]
  },
  {
   "cell_type": "markdown",
   "metadata": {},
   "source": [
    "- 定义\n",
    "- 索引\n",
    "- 添加\n",
    "- 删除\n",
    "- 修改"
   ]
  },
  {
   "cell_type": "code",
   "execution_count": 7,
   "metadata": {},
   "outputs": [],
   "source": [
    "#先定义一个列表\n",
    "list1 = [\"Python\", \"Java\", \"大鱼AI\"]"
   ]
  },
  {
   "cell_type": "code",
   "execution_count": 8,
   "metadata": {},
   "outputs": [
    {
     "name": "stdout",
     "output_type": "stream",
     "text": [
      "我爱Python\n"
     ]
    }
   ],
   "source": [
    "#索引\n",
    "print(\"我爱\"+list1[0])# 输出为：我爱Python"
   ]
  },
  {
   "cell_type": "code",
   "execution_count": 9,
   "metadata": {},
   "outputs": [
    {
     "name": "stdout",
     "output_type": "stream",
     "text": [
      "['Python', 'Java', '大鱼AI', 'Html']\n"
     ]
    }
   ],
   "source": [
    "#添加 append()方法\n",
    "list1.append(\"Html\")\n",
    "print(list1) #输出为['Python', 'Java', '大鱼AI', 'Html']"
   ]
  },
  {
   "cell_type": "code",
   "execution_count": null,
   "metadata": {},
   "outputs": [],
   "source": [
    "#删除： remove pop方法\n",
    "list1.pop(2)  # 移除指定位置元素\n",
    "print(list1)  #输出为：['Python', 'Java', 'Html']\n",
    "list1.remove(\"Html\")  # 移除指定元素\n",
    "print(list1) #输出为：['Python', 'Java']"
   ]
  },
  {
   "cell_type": "code",
   "execution_count": 10,
   "metadata": {},
   "outputs": [
    {
     "name": "stdout",
     "output_type": "stream",
     "text": [
      "['北京', 'Java', '大鱼AI', 'Html']\n"
     ]
    }
   ],
   "source": [
    "#修改\n",
    "list1[0] = \"北京\"\n",
    "print(list1) # 输出为：['北京', 'Java']"
   ]
  },
  {
   "cell_type": "code",
   "execution_count": 14,
   "metadata": {},
   "outputs": [],
   "source": [
    "####Test Zone####\n",
    "#试着自己定义一个喜欢物品的列表，对其进行索引打印、添加、删除和修改的操作\n",
    "\n",
    "\n",
    "\n",
    "\n",
    "\n",
    "\n",
    "\n",
    "#################"
   ]
  },
  {
   "cell_type": "markdown",
   "metadata": {},
   "source": [
    "## 列表的其他操作  \n",
    "- list.append(obj)   在列表末尾添加新的对象  \n",
    "- list.count(obj)    统计某个元素在列表中出现的次数   \n",
    "- list.extend(seq) 在列表末尾一次性追加另一个序列中的多个值（用新列表扩展原来的列表）   \n",
    "- list.index(obj) 从列表中找出某个值第一个匹配项的索引位置   \n",
    "- list.insert(index, obj) 将对象插入列表   \n",
    "- list.pop([index=-1]) 移除列表中的一个元素（默认最后一个元素），并且返回该元素的值   \n",
    "- list.remove(obj) 移除列表中某个值的第一个匹配项   \n",
    "- list.reverse() 反向列表中元素   \n",
    "- list.sort(cmp=None, key=None, reverse=False) 对原列表进行排序   "
   ]
  },
  {
   "cell_type": "markdown",
   "metadata": {},
   "source": [
    "# 3.元组"
   ]
  },
  {
   "attachments": {},
   "cell_type": "markdown",
   "metadata": {},
   "source": [
    "Python的元组与列表类似，不同之处在于元组的元素不能修改，一般用小括号(“()”) 包裹。\n",
    "例如：tuple1 = (1, 2, 3)。 在例子中，tuple1为变量名，(1, 2, 3)为元组。"
   ]
  },
  {
   "cell_type": "markdown",
   "metadata": {},
   "source": [
    "## 元组的基本操作与特性"
   ]
  },
  {
   "cell_type": "markdown",
   "metadata": {},
   "source": [
    "- 索引 \n",
    "- 不可修改"
   ]
  },
  {
   "cell_type": "code",
   "execution_count": 16,
   "metadata": {},
   "outputs": [],
   "source": [
    "#定义元组\n",
    "tuple1 = (1, 2, 3)"
   ]
  },
  {
   "cell_type": "code",
   "execution_count": null,
   "metadata": {},
   "outputs": [],
   "source": [
    "#索引\n",
    "print(tuple1[0]) #输出为：1"
   ]
  },
  {
   "cell_type": "code",
   "execution_count": null,
   "metadata": {},
   "outputs": [],
   "source": [
    "#不可修改\n",
    "tuple1[0] = 6  报错：'tuple' object does not support item assignmentb"
   ]
  },
  {
   "cell_type": "markdown",
   "metadata": {},
   "source": [
    "# 元组的其它操作"
   ]
  },
  {
   "cell_type": "markdown",
   "metadata": {},
   "source": [
    "- cmp(tuple1, tuple2) 比较两个元组元素。 \n",
    "- len(tuple) 计算元组元素个数。 \n",
    "- max(tuple) 返回元组中元素最大值。 \n",
    "- min(tuple) 返回元组中元素最小值。 \n",
    "- tuple(seq) 将列表转换为元组。 \n"
   ]
  },
  {
   "attachments": {},
   "cell_type": "markdown",
   "metadata": {},
   "source": [
    "本次课程我们学习了Python的三种基本数据结构：字符串、列表、元组，其中字符串和元组的元素不能进行修改，列表的元素可修改。在实际生活中，我们会根据项目需求选择不同的数据结构，存储数据。"
   ]
  },
  {
   "cell_type": "markdown",
   "metadata": {},
   "source": [
    "# 成员运算符"
   ]
  },
  {
   "cell_type": "markdown",
   "metadata": {},
   "source": [
    "符号：in  \n",
    "定义如果在指定的序列中找到值返回 True，否则返回 False。 \n",
    "\n",
    "符号：not in  \n",
    "定义如果在指定的序列中没有找到值返回 True，否则返回 False。 \n"
   ]
  },
  {
   "cell_type": "code",
   "execution_count": 24,
   "metadata": {},
   "outputs": [
    {
     "name": "stdout",
     "output_type": "stream",
     "text": [
      "True\n",
      "False\n"
     ]
    }
   ],
   "source": [
    "string1 = \"我爱大鱼AI\"\n",
    "print(\"大鱼\" in string1)\n",
    "print('小鱼' in string1)"
   ]
  },
  {
   "cell_type": "markdown",
   "metadata": {},
   "source": [
    "# 作业"
   ]
  },
  {
   "cell_type": "markdown",
   "metadata": {},
   "source": [
    "定义一个列表，包含自己的家庭成员名字，\n",
    "定义完成后在你名字前加入\"大鱼AI\"，再\n",
    "将\"大鱼AI\"这一名字删除，此时判断\"\n",
    "大鱼AI\"是否在列表中。"
   ]
  },
  {
   "cell_type": "code",
   "execution_count": 17,
   "metadata": {},
   "outputs": [],
   "source": [
    "######自己动手完成###########\n",
    "\n",
    "\n",
    "\n",
    "\n",
    "\n",
    "\n",
    "\n",
    "#############################"
   ]
  },
  {
   "cell_type": "markdown",
   "metadata": {},
   "source": [
    "## 答案代码"
   ]
  },
  {
   "cell_type": "code",
   "execution_count": 19,
   "metadata": {
    "scrolled": true
   },
   "outputs": [],
   "source": [
    "# 定义列表\n",
    "my_family = [\"爸爸\", \"妈妈\", \"我\"]"
   ]
  },
  {
   "cell_type": "code",
   "execution_count": 20,
   "metadata": {},
   "outputs": [
    {
     "name": "stdout",
     "output_type": "stream",
     "text": [
      "['爸爸', '妈妈', '大鱼AI', '我']\n"
     ]
    }
   ],
   "source": [
    "# 插入\"大鱼AI\"在\"我\"前面\n",
    "my_family.insert(2, \"大鱼AI\")\n",
    "print(my_family)"
   ]
  },
  {
   "cell_type": "code",
   "execution_count": 21,
   "metadata": {},
   "outputs": [
    {
     "name": "stdout",
     "output_type": "stream",
     "text": [
      "['爸爸', '妈妈', '我']\n"
     ]
    }
   ],
   "source": [
    "# 删除“大鱼AI”\n",
    "my_family.remove(\"大鱼AI\")\n",
    "print(my_family)"
   ]
  },
  {
   "cell_type": "code",
   "execution_count": 22,
   "metadata": {},
   "outputs": [
    {
     "name": "stdout",
     "output_type": "stream",
     "text": [
      "False\n"
     ]
    }
   ],
   "source": [
    "# 判断大鱼AI是否在我家\n",
    "print(\"大鱼AI\" in my_family)"
   ]
  }
 ],
 "metadata": {
  "kernelspec": {
   "display_name": "Python 3",
   "language": "python",
   "name": "python3"
  },
  "language_info": {
   "codemirror_mode": {
    "name": "ipython",
    "version": 3
   },
   "file_extension": ".py",
   "mimetype": "text/x-python",
   "name": "python",
   "nbconvert_exporter": "python",
   "pygments_lexer": "ipython3",
   "version": "3.6.8"
  }
 },
 "nbformat": 4,
 "nbformat_minor": 2
}
